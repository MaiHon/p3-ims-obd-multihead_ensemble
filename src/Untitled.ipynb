{
 "cells": [
  {
   "cell_type": "code",
   "execution_count": 2,
   "id": "96056f0d-3c5c-41c9-b526-9970b9eecdc3",
   "metadata": {},
   "outputs": [
    {
     "name": "stdout",
     "output_type": "stream",
     "text": [
      "/opt/ml/p3-ims-obd-multihead_ensemble\n"
     ]
    }
   ],
   "source": [
    "cd /opt/ml/p3-ims-obd-multihead_ensemble"
   ]
  },
  {
   "cell_type": "code",
   "execution_count": null,
   "id": "1c09ee6d-c07b-4ade-8a7b-c424accfc3c8",
   "metadata": {},
   "outputs": [
    {
     "name": "stdout",
     "output_type": "stream",
     "text": [
      "\u001b[34m\u001b[1mwandb\u001b[0m: Currently logged in as: \u001b[33mhyerin\u001b[0m (use `wandb login --relogin` to force relogin)\n",
      "\u001b[34m\u001b[1mwandb\u001b[0m: wandb version 0.10.29 is available!  To upgrade, please run:\n",
      "\u001b[34m\u001b[1mwandb\u001b[0m:  $ pip install wandb --upgrade\n",
      "\n",
      "CondaEnvException: Unable to determine environment\n",
      "\n",
      "Please re-run this command with one of the following options:\n",
      "\n",
      "* Provide an environment name via --name or -n\n",
      "* Re-run this command inside an activated conda environment.\n",
      "\n",
      "\u001b[34m\u001b[1mwandb\u001b[0m: Tracking run with wandb version 0.10.28\n",
      "\u001b[34m\u001b[1mwandb\u001b[0m: Syncing run \u001b[33mbase\u001b[0m\n",
      "\u001b[34m\u001b[1mwandb\u001b[0m: ⭐️ View project at \u001b[34m\u001b[4mhttps://wandb.ai/hyerin/segmentation\u001b[0m\n",
      "\u001b[34m\u001b[1mwandb\u001b[0m: 🚀 View run at \u001b[34m\u001b[4mhttps://wandb.ai/hyerin/segmentation/runs/21j8to9i\u001b[0m\n",
      "\u001b[34m\u001b[1mwandb\u001b[0m: Run data is saved locally in /opt/ml/p3-ims-obd-multihead_ensemble/wandb/run-20210504_202152-21j8to9i\n",
      "\u001b[34m\u001b[1mwandb\u001b[0m: Run `wandb offline` to turn off syncing.\n",
      "\n",
      "\u001b[34m\u001b[1mwandb\u001b[0m: \u001b[33mWARNING\u001b[0m Calling run.save without any arguments is deprecated.Changes to attributes are automatically persisted.\n",
      "\u001b[0m\u001b[33measydict.EasyDict\u001b[0m\u001b[0m\u001b[37m(\u001b[0m\u001b[0m\u001b[37m{\u001b[0m\n",
      "    \u001b[0m\u001b[33m'\u001b[0m\u001b[33mseed\u001b[0m\u001b[33m'\u001b[0m\u001b[0m\u001b[37m:\u001b[0m \u001b[0m\u001b[37m2021\u001b[0m\u001b[0m\u001b[37m,\u001b[0m\n",
      "    \u001b[0m\u001b[33m'\u001b[0m\u001b[33mbackbone\u001b[0m\u001b[33m'\u001b[0m\u001b[0m\u001b[37m:\u001b[0m \u001b[0m\u001b[33m'\u001b[0m\u001b[33mtimm-efficientnet-b3\u001b[0m\u001b[33m'\u001b[0m\u001b[0m\u001b[37m,\u001b[0m\n",
      "    \u001b[0m\u001b[33m'\u001b[0m\u001b[33mbackbone_weight\u001b[0m\u001b[33m'\u001b[0m\u001b[0m\u001b[37m:\u001b[0m \u001b[0m\u001b[33m'\u001b[0m\u001b[33mnoisy-student\u001b[0m\u001b[33m'\u001b[0m\u001b[0m\u001b[37m,\u001b[0m\n",
      "    \u001b[0m\u001b[33m'\u001b[0m\u001b[33mmodel_arc\u001b[0m\u001b[33m'\u001b[0m\u001b[0m\u001b[37m:\u001b[0m \u001b[0m\u001b[33m'\u001b[0m\u001b[33mPAN\u001b[0m\u001b[33m'\u001b[0m\u001b[0m\u001b[37m,\u001b[0m\n",
      "    \u001b[0m\u001b[33m'\u001b[0m\u001b[33mnum_classes\u001b[0m\u001b[33m'\u001b[0m\u001b[0m\u001b[37m:\u001b[0m \u001b[0m\u001b[37m12\u001b[0m\u001b[0m\u001b[37m,\u001b[0m\n",
      "    \u001b[0m\u001b[33m'\u001b[0m\u001b[33mimage_size\u001b[0m\u001b[33m'\u001b[0m\u001b[0m\u001b[37m:\u001b[0m \u001b[0m\u001b[37m512\u001b[0m\u001b[0m\u001b[37m,\u001b[0m\n",
      "    \u001b[0m\u001b[33m'\u001b[0m\u001b[33mnum_workers\u001b[0m\u001b[33m'\u001b[0m\u001b[0m\u001b[37m:\u001b[0m \u001b[0m\u001b[37m6\u001b[0m\u001b[0m\u001b[37m,\u001b[0m\n",
      "    \u001b[0m\u001b[33m'\u001b[0m\u001b[33moutput_dir\u001b[0m\u001b[33m'\u001b[0m\u001b[0m\u001b[37m:\u001b[0m \u001b[0m\u001b[33m'\u001b[0m\u001b[33m./results/\u001b[0m\u001b[33m'\u001b[0m\u001b[0m\u001b[37m,\u001b[0m\n",
      "    \u001b[0m\u001b[33m'\u001b[0m\u001b[33mrun_name\u001b[0m\u001b[33m'\u001b[0m\u001b[0m\u001b[37m:\u001b[0m \u001b[0m\u001b[33m'\u001b[0m\u001b[33mpan_base\u001b[0m\u001b[33m'\u001b[0m\u001b[0m\u001b[37m,\u001b[0m\n",
      "    \u001b[0m\u001b[33m'\u001b[0m\u001b[33moptimizer\u001b[0m\u001b[33m'\u001b[0m\u001b[0m\u001b[37m:\u001b[0m \u001b[0m\u001b[33m'\u001b[0m\u001b[33mAdamW\u001b[0m\u001b[33m'\u001b[0m\u001b[0m\u001b[37m,\u001b[0m\n",
      "    \u001b[0m\u001b[33m'\u001b[0m\u001b[33mcriterion\u001b[0m\u001b[33m'\u001b[0m\u001b[0m\u001b[37m:\u001b[0m \u001b[0m\u001b[33m'\u001b[0m\u001b[33mTripleLoss\u001b[0m\u001b[33m'\u001b[0m\u001b[0m\u001b[37m,\u001b[0m\n",
      "    \u001b[0m\u001b[33m'\u001b[0m\u001b[33mearly_num\u001b[0m\u001b[33m'\u001b[0m\u001b[0m\u001b[37m:\u001b[0m \u001b[0m\u001b[37m4\u001b[0m\u001b[0m\u001b[37m,\u001b[0m\n",
      "    \u001b[0m\u001b[33m'\u001b[0m\u001b[33mtrain_args\u001b[0m\u001b[33m'\u001b[0m\u001b[0m\u001b[37m:\u001b[0m \u001b[0m\u001b[33measydict.EasyDict\u001b[0m\u001b[0m\u001b[37m(\u001b[0m\u001b[0m\u001b[37m{\u001b[0m\n",
      "        \u001b[0m\u001b[33m'\u001b[0m\u001b[33mnum_epochs\u001b[0m\u001b[33m'\u001b[0m\u001b[0m\u001b[37m:\u001b[0m \u001b[0m\u001b[37m12\u001b[0m\u001b[0m\u001b[37m,\u001b[0m\n",
      "        \u001b[0m\u001b[33m'\u001b[0m\u001b[33mtrain_batch_size\u001b[0m\u001b[33m'\u001b[0m\u001b[0m\u001b[37m:\u001b[0m \u001b[0m\u001b[37m12\u001b[0m\u001b[0m\u001b[37m,\u001b[0m\n",
      "        \u001b[0m\u001b[33m'\u001b[0m\u001b[33mmax_lr\u001b[0m\u001b[33m'\u001b[0m\u001b[0m\u001b[37m:\u001b[0m \u001b[0m\u001b[37m0.0005\u001b[0m\u001b[0m\u001b[37m,\u001b[0m\n",
      "        \u001b[0m\u001b[33m'\u001b[0m\u001b[33mmin_lr\u001b[0m\u001b[33m'\u001b[0m\u001b[0m\u001b[37m:\u001b[0m \u001b[0m\u001b[37m1e-05\u001b[0m\u001b[0m\u001b[37m,\u001b[0m\n",
      "        \u001b[0m\u001b[33m'\u001b[0m\u001b[33mweight_decay\u001b[0m\u001b[33m'\u001b[0m\u001b[0m\u001b[37m:\u001b[0m \u001b[0m\u001b[37m1e-06\u001b[0m\n",
      "    \u001b[0m\u001b[37m}\u001b[0m\u001b[0m\u001b[37m)\u001b[0m\u001b[0m\u001b[37m,\u001b[0m\n",
      "    \u001b[0m\u001b[33m'\u001b[0m\u001b[33mval_args\u001b[0m\u001b[33m'\u001b[0m\u001b[0m\u001b[37m:\u001b[0m \u001b[0m\u001b[33measydict.EasyDict\u001b[0m\u001b[0m\u001b[37m(\u001b[0m\u001b[0m\u001b[37m{\u001b[0m\u001b[0m\u001b[33m'\u001b[0m\u001b[33mval_batch_size\u001b[0m\u001b[33m'\u001b[0m\u001b[0m\u001b[37m:\u001b[0m \u001b[0m\u001b[37m12\u001b[0m\u001b[0m\u001b[37m}\u001b[0m\u001b[0m\u001b[37m)\u001b[0m\u001b[0m\u001b[37m,\u001b[0m\n",
      "    \u001b[0m\u001b[33m'\u001b[0m\u001b[33maugmix_args\u001b[0m\u001b[33m'\u001b[0m\u001b[0m\u001b[37m:\u001b[0m \u001b[0m\u001b[33measydict.EasyDict\u001b[0m\u001b[0m\u001b[37m(\u001b[0m\u001b[0m\u001b[37m{\u001b[0m\n",
      "        \u001b[0m\u001b[33m'\u001b[0m\u001b[33muse_augmix\u001b[0m\u001b[33m'\u001b[0m\u001b[0m\u001b[37m:\u001b[0m \u001b[0m\u001b[36mTrue\u001b[0m\u001b[0m\u001b[37m,\u001b[0m\n",
      "        \u001b[0m\u001b[33m'\u001b[0m\u001b[33maugmix_prob\u001b[0m\u001b[33m'\u001b[0m\u001b[0m\u001b[37m:\u001b[0m \u001b[0m\u001b[37m0.5\u001b[0m\n",
      "    \u001b[0m\u001b[37m}\u001b[0m\u001b[0m\u001b[37m)\u001b[0m\n",
      "\u001b[0m\u001b[37m}\u001b[0m\u001b[0m\u001b[37m)\u001b[0m\n",
      "\n",
      "\n",
      "Cuda is Available ? : True\n",
      "\n",
      "loading annotations into memory...\n",
      "Done (t=3.28s)\n",
      "creating index...\n",
      "index created!\n",
      "loading annotations into memory...\n",
      "Done (t=0.79s)\n",
      "creating index...\n",
      "index created!\n",
      "Train Epoch 1:   6%| | 12/218 [00:53<14:06,  4.11s/batch, trn_loss=1.54, trn_mIo"
     ]
    }
   ],
   "source": [
    "!python main.py --config base"
   ]
  }
 ],
 "metadata": {
  "kernelspec": {
   "display_name": "Python 3",
   "language": "python",
   "name": "python3"
  },
  "language_info": {
   "codemirror_mode": {
    "name": "ipython",
    "version": 3
   },
   "file_extension": ".py",
   "mimetype": "text/x-python",
   "name": "python",
   "nbconvert_exporter": "python",
   "pygments_lexer": "ipython3",
   "version": "3.7.7"
  }
 },
 "nbformat": 4,
 "nbformat_minor": 5
}
