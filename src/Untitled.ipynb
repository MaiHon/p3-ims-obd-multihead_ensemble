{
 "cells": [
  {
   "cell_type": "code",
   "execution_count": 1,
   "id": "96056f0d-3c5c-41c9-b526-9970b9eecdc3",
   "metadata": {},
   "outputs": [
    {
     "name": "stdout",
     "output_type": "stream",
     "text": [
      "/opt/ml/p3-ims-obd-multihead_ensemble\n"
     ]
    }
   ],
   "source": [
    "cd /opt/ml/p3-ims-obd-multihead_ensemble"
   ]
  },
  {
   "cell_type": "code",
   "execution_count": 8,
   "id": "1c09ee6d-c07b-4ade-8a7b-c424accfc3c8",
   "metadata": {},
   "outputs": [
    {
     "name": "stdout",
     "output_type": "stream",
     "text": [
      "\u001b[34m\u001b[1mwandb\u001b[0m: Currently logged in as: \u001b[33mhyerin\u001b[0m (use `wandb login --relogin` to force relogin)\n",
      "\u001b[34m\u001b[1mwandb\u001b[0m: wandb version 0.10.29 is available!  To upgrade, please run:\n",
      "\u001b[34m\u001b[1mwandb\u001b[0m:  $ pip install wandb --upgrade\n",
      "\n",
      "CondaEnvException: Unable to determine environment\n",
      "\n",
      "Please re-run this command with one of the following options:\n",
      "\n",
      "* Provide an environment name via --name or -n\n",
      "* Re-run this command inside an activated conda environment.\n",
      "\n",
      "\u001b[34m\u001b[1mwandb\u001b[0m: Tracking run with wandb version 0.10.28\n",
      "\u001b[34m\u001b[1mwandb\u001b[0m: Syncing run \u001b[33mbase\u001b[0m\n",
      "\u001b[34m\u001b[1mwandb\u001b[0m: ⭐️ View project at \u001b[34m\u001b[4mhttps://wandb.ai/hyerin/segmentation\u001b[0m\n",
      "\u001b[34m\u001b[1mwandb\u001b[0m: 🚀 View run at \u001b[34m\u001b[4mhttps://wandb.ai/hyerin/segmentation/runs/3r043g8c\u001b[0m\n",
      "\u001b[34m\u001b[1mwandb\u001b[0m: Run data is saved locally in /opt/ml/p3-ims-obd-multihead_ensemble/wandb/run-20210505_124914-3r043g8c\n",
      "\u001b[34m\u001b[1mwandb\u001b[0m: Run `wandb offline` to turn off syncing.\n",
      "\n",
      "\u001b[34m\u001b[1mwandb\u001b[0m: \u001b[33mWARNING\u001b[0m Calling run.save without any arguments is deprecated.Changes to attributes are automatically persisted.\n",
      "\u001b[0m\u001b[33measydict.EasyDict\u001b[0m\u001b[0m\u001b[37m(\u001b[0m\u001b[0m\u001b[37m{\u001b[0m\n",
      "    \u001b[0m\u001b[33m'\u001b[0m\u001b[33mseed\u001b[0m\u001b[33m'\u001b[0m\u001b[0m\u001b[37m:\u001b[0m \u001b[0m\u001b[37m2021\u001b[0m\u001b[0m\u001b[37m,\u001b[0m\n",
      "    \u001b[0m\u001b[33m'\u001b[0m\u001b[33mbackbone\u001b[0m\u001b[33m'\u001b[0m\u001b[0m\u001b[37m:\u001b[0m \u001b[0m\u001b[33m'\u001b[0m\u001b[33mtimm-efficientnet-b3\u001b[0m\u001b[33m'\u001b[0m\u001b[0m\u001b[37m,\u001b[0m\n",
      "    \u001b[0m\u001b[33m'\u001b[0m\u001b[33mbackbone_weight\u001b[0m\u001b[33m'\u001b[0m\u001b[0m\u001b[37m:\u001b[0m \u001b[0m\u001b[33m'\u001b[0m\u001b[33mnoisy-student\u001b[0m\u001b[33m'\u001b[0m\u001b[0m\u001b[37m,\u001b[0m\n",
      "    \u001b[0m\u001b[33m'\u001b[0m\u001b[33mmodel_arc\u001b[0m\u001b[33m'\u001b[0m\u001b[0m\u001b[37m:\u001b[0m \u001b[0m\u001b[33m'\u001b[0m\u001b[33mPAN\u001b[0m\u001b[33m'\u001b[0m\u001b[0m\u001b[37m,\u001b[0m\n",
      "    \u001b[0m\u001b[33m'\u001b[0m\u001b[33mnum_classes\u001b[0m\u001b[33m'\u001b[0m\u001b[0m\u001b[37m:\u001b[0m \u001b[0m\u001b[37m12\u001b[0m\u001b[0m\u001b[37m,\u001b[0m\n",
      "    \u001b[0m\u001b[33m'\u001b[0m\u001b[33mimage_size\u001b[0m\u001b[33m'\u001b[0m\u001b[0m\u001b[37m:\u001b[0m \u001b[0m\u001b[37m512\u001b[0m\u001b[0m\u001b[37m,\u001b[0m\n",
      "    \u001b[0m\u001b[33m'\u001b[0m\u001b[33mnum_workers\u001b[0m\u001b[33m'\u001b[0m\u001b[0m\u001b[37m:\u001b[0m \u001b[0m\u001b[37m6\u001b[0m\u001b[0m\u001b[37m,\u001b[0m\n",
      "    \u001b[0m\u001b[33m'\u001b[0m\u001b[33moutput_dir\u001b[0m\u001b[33m'\u001b[0m\u001b[0m\u001b[37m:\u001b[0m \u001b[0m\u001b[33m'\u001b[0m\u001b[33m./results/\u001b[0m\u001b[33m'\u001b[0m\u001b[0m\u001b[37m,\u001b[0m\n",
      "    \u001b[0m\u001b[33m'\u001b[0m\u001b[33mrun_name\u001b[0m\u001b[33m'\u001b[0m\u001b[0m\u001b[37m:\u001b[0m \u001b[0m\u001b[33m'\u001b[0m\u001b[33mpan_base\u001b[0m\u001b[33m'\u001b[0m\u001b[0m\u001b[37m,\u001b[0m\n",
      "    \u001b[0m\u001b[33m'\u001b[0m\u001b[33moptimizer\u001b[0m\u001b[33m'\u001b[0m\u001b[0m\u001b[37m:\u001b[0m \u001b[0m\u001b[33m'\u001b[0m\u001b[33mSGDW\u001b[0m\u001b[33m'\u001b[0m\u001b[0m\u001b[37m,\u001b[0m\n",
      "    \u001b[0m\u001b[33m'\u001b[0m\u001b[33mcriterion\u001b[0m\u001b[33m'\u001b[0m\u001b[0m\u001b[37m:\u001b[0m \u001b[0m\u001b[33m'\u001b[0m\u001b[33mTripleLoss\u001b[0m\u001b[33m'\u001b[0m\u001b[0m\u001b[37m,\u001b[0m\n",
      "    \u001b[0m\u001b[33m'\u001b[0m\u001b[33mearly_num\u001b[0m\u001b[33m'\u001b[0m\u001b[0m\u001b[37m:\u001b[0m \u001b[0m\u001b[37m4\u001b[0m\u001b[0m\u001b[37m,\u001b[0m\n",
      "    \u001b[0m\u001b[33m'\u001b[0m\u001b[33mtrain_args\u001b[0m\u001b[33m'\u001b[0m\u001b[0m\u001b[37m:\u001b[0m \u001b[0m\u001b[33measydict.EasyDict\u001b[0m\u001b[0m\u001b[37m(\u001b[0m\u001b[0m\u001b[37m{\u001b[0m\n",
      "        \u001b[0m\u001b[33m'\u001b[0m\u001b[33mnum_epochs\u001b[0m\u001b[33m'\u001b[0m\u001b[0m\u001b[37m:\u001b[0m \u001b[0m\u001b[37m3\u001b[0m\u001b[0m\u001b[37m,\u001b[0m\n",
      "        \u001b[0m\u001b[33m'\u001b[0m\u001b[33mtrain_batch_size\u001b[0m\u001b[33m'\u001b[0m\u001b[0m\u001b[37m:\u001b[0m \u001b[0m\u001b[37m12\u001b[0m\u001b[0m\u001b[37m,\u001b[0m\n",
      "        \u001b[0m\u001b[33m'\u001b[0m\u001b[33mmax_lr\u001b[0m\u001b[33m'\u001b[0m\u001b[0m\u001b[37m:\u001b[0m \u001b[0m\u001b[37m0.0001\u001b[0m\u001b[0m\u001b[37m,\u001b[0m\n",
      "        \u001b[0m\u001b[33m'\u001b[0m\u001b[33mmin_lr\u001b[0m\u001b[33m'\u001b[0m\u001b[0m\u001b[37m:\u001b[0m \u001b[0m\u001b[37m1e-05\u001b[0m\u001b[0m\u001b[37m,\u001b[0m\n",
      "        \u001b[0m\u001b[33m'\u001b[0m\u001b[33mweight_decay\u001b[0m\u001b[33m'\u001b[0m\u001b[0m\u001b[37m:\u001b[0m \u001b[0m\u001b[37m1e-06\u001b[0m\n",
      "    \u001b[0m\u001b[37m}\u001b[0m\u001b[0m\u001b[37m)\u001b[0m\u001b[0m\u001b[37m,\u001b[0m\n",
      "    \u001b[0m\u001b[33m'\u001b[0m\u001b[33mval_args\u001b[0m\u001b[33m'\u001b[0m\u001b[0m\u001b[37m:\u001b[0m \u001b[0m\u001b[33measydict.EasyDict\u001b[0m\u001b[0m\u001b[37m(\u001b[0m\u001b[0m\u001b[37m{\u001b[0m\u001b[0m\u001b[33m'\u001b[0m\u001b[33mval_batch_size\u001b[0m\u001b[33m'\u001b[0m\u001b[0m\u001b[37m:\u001b[0m \u001b[0m\u001b[37m12\u001b[0m\u001b[0m\u001b[37m}\u001b[0m\u001b[0m\u001b[37m)\u001b[0m\u001b[0m\u001b[37m,\u001b[0m\n",
      "    \u001b[0m\u001b[33m'\u001b[0m\u001b[33maugmix_args\u001b[0m\u001b[33m'\u001b[0m\u001b[0m\u001b[37m:\u001b[0m \u001b[0m\u001b[33measydict.EasyDict\u001b[0m\u001b[0m\u001b[37m(\u001b[0m\u001b[0m\u001b[37m{\u001b[0m\n",
      "        \u001b[0m\u001b[33m'\u001b[0m\u001b[33muse_augmix\u001b[0m\u001b[33m'\u001b[0m\u001b[0m\u001b[37m:\u001b[0m \u001b[0m\u001b[36mTrue\u001b[0m\u001b[0m\u001b[37m,\u001b[0m\n",
      "        \u001b[0m\u001b[33m'\u001b[0m\u001b[33maugmix_prob\u001b[0m\u001b[33m'\u001b[0m\u001b[0m\u001b[37m:\u001b[0m \u001b[0m\u001b[37m0.5\u001b[0m\n",
      "    \u001b[0m\u001b[37m}\u001b[0m\u001b[0m\u001b[37m)\u001b[0m\n",
      "\u001b[0m\u001b[37m}\u001b[0m\u001b[0m\u001b[37m)\u001b[0m\n",
      "\n",
      "\n",
      "Cuda is Available ? : True\n",
      "\n",
      "loading annotations into memory...\n",
      "Done (t=3.32s)\n",
      "creating index...\n",
      "index created!\n",
      "loading annotations into memory...\n",
      "Done (t=0.81s)\n",
      "creating index...\n",
      "index created!\n",
      "Train Epoch 1: 100%|█| 65/65 [04:25<00:00,  4.09s/batch, trn_loss=0.104, trn_mIo\n",
      "Valid Epoch 1: 100%|█| 54/54 [02:59<00:00,  3.32s/batch, val_loss=0.132, val_mIo\n",
      "Train Epoch 2: 100%|█| 65/65 [04:23<00:00,  4.05s/batch, trn_loss=0.105, trn_mIo\n",
      "Valid Epoch 2: 100%|█| 54/54 [02:58<00:00,  3.31s/batch, val_loss=0.133, val_mIo\n",
      "Train Epoch 3: 100%|█| 65/65 [04:24<00:00,  4.07s/batch, trn_loss=0.108, trn_mIo\n",
      "Valid Epoch 3: 100%|█| 54/54 [02:57<00:00,  3.29s/batch, val_loss=0.133, val_mIo\n",
      "\n",
      "\u001b[34m\u001b[1mwandb\u001b[0m: Waiting for W&B process to finish, PID 14436\n",
      "\u001b[34m\u001b[1mwandb\u001b[0m: Program ended successfully.\n",
      "\u001b[34m\u001b[1mwandb\u001b[0m:                                                                                \n",
      "\u001b[34m\u001b[1mwandb\u001b[0m: Find user logs for this run at: /opt/ml/p3-ims-obd-multihead_ensemble/wandb/run-20210505_124914-3r043g8c/logs/debug.log\n",
      "\u001b[34m\u001b[1mwandb\u001b[0m: Find internal logs for this run at: /opt/ml/p3-ims-obd-multihead_ensemble/wandb/run-20210505_124914-3r043g8c/logs/debug-internal.log\n",
      "\u001b[34m\u001b[1mwandb\u001b[0m: Run summary:\n",
      "\u001b[34m\u001b[1mwandb\u001b[0m:          Learning rate 1e-05\n",
      "\u001b[34m\u001b[1mwandb\u001b[0m:       Train Loss value 0.10823\n",
      "\u001b[34m\u001b[1mwandb\u001b[0m:   Train mean IoU value 63.13246\n",
      "\u001b[34m\u001b[1mwandb\u001b[0m:               _runtime 1341\n",
      "\u001b[34m\u001b[1mwandb\u001b[0m:             _timestamp 1620220295\n",
      "\u001b[34m\u001b[1mwandb\u001b[0m:                  _step 197\n",
      "\u001b[34m\u001b[1mwandb\u001b[0m:       Valid Loss value 0.13263\n",
      "\u001b[34m\u001b[1mwandb\u001b[0m:   Valid mean IoU value 59.10499\n",
      "\u001b[34m\u001b[1mwandb\u001b[0m: Run history:\n",
      "\u001b[34m\u001b[1mwandb\u001b[0m:          Learning rate ▁▁▁▁▁▁▁▁▁▁▁▁▁▁▁▁▁▁▁▁▁▁▁▁▁▁▁▁▁▁▁▁▁▁▁▁▁▁▁▁\n",
      "\u001b[34m\u001b[1mwandb\u001b[0m:       Train Loss value ▁▃▅▅▅▄▄▅▅▅▄▄▄█▇▆▄▄▅▄▄▄▄▄▄▄▄▁▄▅▇▅▆▅▅▅▅▄▄▅\n",
      "\u001b[34m\u001b[1mwandb\u001b[0m:   Train mean IoU value █▇▄▃▄▅▄▄▄▄▄▅▅▁▃▃▄▅▄▅▅▅▅▅▅▅▅▁▁▃▂▃▃▃▄▄▄▅▅▅\n",
      "\u001b[34m\u001b[1mwandb\u001b[0m:               _runtime ▁▁▁▁▁▂▂▂▂▂▂▂▂▃▃▄▄▄▄▄▄▄▄▄▅▅▆▆▆▆▆▆▆▆▇▇▇▇▇█\n",
      "\u001b[34m\u001b[1mwandb\u001b[0m:             _timestamp ▁▁▁▁▁▂▂▂▂▂▂▂▂▃▃▄▄▄▄▄▄▄▄▄▅▅▆▆▆▆▆▆▆▆▇▇▇▇▇█\n",
      "\u001b[34m\u001b[1mwandb\u001b[0m:                  _step ▁▁▁▁▂▂▂▂▂▃▃▃▃▃▃▄▄▄▄▄▅▅▅▅▅▅▆▆▆▆▆▇▇▇▇▇▇███\n",
      "\u001b[34m\u001b[1mwandb\u001b[0m:       Valid Loss value ▁█▃\n",
      "\u001b[34m\u001b[1mwandb\u001b[0m:   Valid mean IoU value █▁▅\n",
      "\u001b[34m\u001b[1mwandb\u001b[0m: \n",
      "\u001b[34m\u001b[1mwandb\u001b[0m: Synced 6 W&B file(s), 1 media file(s), 0 artifact file(s) and 1 other file(s)\n",
      "\u001b[34m\u001b[1mwandb\u001b[0m: \n",
      "\u001b[34m\u001b[1mwandb\u001b[0m: Synced \u001b[33mbase\u001b[0m: \u001b[34mhttps://wandb.ai/hyerin/segmentation/runs/3r043g8c\u001b[0m\n",
      "Traceback (most recent call last):\n",
      "  File \"main.py\", line 94, in <module>\n",
      "    main(cfg)\n",
      "  File \"main.py\", line 75, in main\n",
      "    train(cfg, args.run_name, psuedo_loader, val_loader)\n",
      "  File \"/opt/ml/p3-ims-obd-multihead_ensemble/src/train.py\", line 214, in train\n",
      "    return best_score\n",
      "NameError: name 'best_score' is not defined\n"
     ]
    }
   ],
   "source": [
    "!python main.py --config madgrad --save_name madgrad"
   ]
  },
  {
   "cell_type": "code",
   "execution_count": 9,
   "id": "f000af58-7a09-46a1-a6a4-bbef3192c241",
   "metadata": {},
   "outputs": [
    {
     "name": "stdout",
     "output_type": "stream",
     "text": [
      "\u001b[0m\u001b[33measydict.EasyDict\u001b[0m\u001b[0m\u001b[37m(\u001b[0m\u001b[0m\u001b[37m{\u001b[0m\n",
      "    \u001b[0m\u001b[33m'\u001b[0m\u001b[33mseed\u001b[0m\u001b[33m'\u001b[0m\u001b[0m\u001b[37m:\u001b[0m \u001b[0m\u001b[37m77\u001b[0m\u001b[0m\u001b[37m,\u001b[0m\n",
      "    \u001b[0m\u001b[33m'\u001b[0m\u001b[33mbackbone\u001b[0m\u001b[33m'\u001b[0m\u001b[0m\u001b[37m:\u001b[0m \u001b[0m\u001b[33m'\u001b[0m\u001b[33mtimm-efficientnet-b3\u001b[0m\u001b[33m'\u001b[0m\u001b[0m\u001b[37m,\u001b[0m\n",
      "    \u001b[0m\u001b[33m'\u001b[0m\u001b[33mmodel_arc\u001b[0m\u001b[33m'\u001b[0m\u001b[0m\u001b[37m:\u001b[0m \u001b[0m\u001b[33m'\u001b[0m\u001b[33mPAN\u001b[0m\u001b[33m'\u001b[0m\u001b[0m\u001b[37m,\u001b[0m\n",
      "    \u001b[0m\u001b[33m'\u001b[0m\u001b[33mimage_size\u001b[0m\u001b[33m'\u001b[0m\u001b[0m\u001b[37m:\u001b[0m \u001b[0m\u001b[37m512\u001b[0m\u001b[0m\u001b[37m,\u001b[0m\n",
      "    \u001b[0m\u001b[33m'\u001b[0m\u001b[33mnum_classes\u001b[0m\u001b[33m'\u001b[0m\u001b[0m\u001b[37m:\u001b[0m \u001b[0m\u001b[37m12\u001b[0m\u001b[0m\u001b[37m,\u001b[0m\n",
      "    \u001b[0m\u001b[33m'\u001b[0m\u001b[33mcheckpoint\u001b[0m\u001b[33m'\u001b[0m\u001b[0m\u001b[37m:\u001b[0m \u001b[0m\u001b[33m'\u001b[0m\u001b[33mbase/best_mIoU.pth\u001b[0m\u001b[33m'\u001b[0m\u001b[0m\u001b[37m,\u001b[0m\n",
      "    \u001b[0m\u001b[33m'\u001b[0m\u001b[33mtest_batch_size\u001b[0m\u001b[33m'\u001b[0m\u001b[0m\u001b[37m:\u001b[0m \u001b[0m\u001b[37m8\u001b[0m\n",
      "\u001b[0m\u001b[37m}\u001b[0m\u001b[0m\u001b[37m)\u001b[0m\n",
      "\n",
      "\n",
      "CRF : True\n",
      "loading annotations into memory...\n",
      "Done (t=0.00s)\n",
      "creating index...\n",
      "index created!\n",
      "Start prediction.\n",
      "Test : 100%|██████████████████████████████████| 104/104 [43:33<00:00, 25.13s/it]\n",
      "End prediction.\n"
     ]
    }
   ],
   "source": [
    "!python eval.py --save_name new_ver --crf True"
   ]
  }
 ],
 "metadata": {
  "kernelspec": {
   "display_name": "Python 3",
   "language": "python",
   "name": "python3"
  },
  "language_info": {
   "codemirror_mode": {
    "name": "ipython",
    "version": 3
   },
   "file_extension": ".py",
   "mimetype": "text/x-python",
   "name": "python",
   "nbconvert_exporter": "python",
   "pygments_lexer": "ipython3",
   "version": "3.7.7"
  }
 },
 "nbformat": 4,
 "nbformat_minor": 5
}
