{
 "cells": [
  {
   "cell_type": "code",
   "execution_count": 1,
   "id": "10b1fdf6-40e2-4ad8-97ce-0aca12b09f46",
   "metadata": {},
   "outputs": [],
   "source": [
    "from src import models, dataset, losses, utils\n",
    "import segmentation_models_pytorch as smp\n",
    "import torch\n",
    "import os\n",
    "import numpy as np\n",
    "import albumentations as A\n",
    "import multiprocessing as mp\n",
    "\n",
    "from albumentations.pytorch import ToTensorV2\n",
    "from torch.utils.data import DataLoader\n",
    "import matplotlib.pyplot as plt\n",
    "import cv2\n",
    "\n",
    "import time\n",
    "from tqdm import tqdm"
   ]
  },
  {
   "cell_type": "code",
   "execution_count": 2,
   "id": "8a49ea1b-7e7b-4a14-ab74-a5eb3fb0e0fd",
   "metadata": {},
   "outputs": [],
   "source": [
    "utils.seed_everything(42)\n",
    "\n",
    "main_path = '.'\n",
    "data_path = os.path.join(main_path, 'input', 'data')\n",
    "\n",
    "mean = np.array([0.46098186, 0.44022841, 0.41892368], dtype=np.float32)\n",
    "std  = np.array([0.21072529, 0.20763867, 0.21613272], dtype=np.float32)"
   ]
  },
  {
   "cell_type": "code",
   "execution_count": 3,
   "id": "f15fa681-a820-4da9-b1a7-f1a0aa71caa4",
   "metadata": {},
   "outputs": [
    {
     "data": {
      "text/plain": [
       "<All keys matched successfully>"
      ]
     },
     "execution_count": 3,
     "metadata": {},
     "output_type": "execute_result"
    }
   ],
   "source": [
    "model = smp.DeepLabV3Plus(\n",
    "            encoder_name=\"efficientnet-b3\",  # choose encoder, e.g. mobilenet_v2 or efficientnet-b7\n",
    "            encoder_weights=\"imagenet\",\n",
    "            in_channels=3,  # model input channels (1 for gray-scale images, 3 for RGB, etc.)\n",
    "            classes=12,  # model output channels (number of classes in your dataset)\n",
    "        )\n",
    "model.load_state_dict(torch.load(\"/opt/ml/p3-ims-obd-multihead_ensemble/segmentation/ckpts/effib3_deeplabv3+/best_mIoU.pth\"))"
   ]
  },
  {
   "cell_type": "code",
   "execution_count": 56,
   "id": "78275a29-264e-438a-8b1f-615eb19249d4",
   "metadata": {},
   "outputs": [
    {
     "name": "stdout",
     "output_type": "stream",
     "text": [
      "Number of super categories: 11\n",
      "Number of categories: 11\n",
      "Number of annotations: 21116\n",
      "Number of images: 2617\n",
      "\n",
      "Number of super categories: 11\n",
      "Number of categories: 11\n",
      "Number of annotations: 5284\n",
      "Number of images: 655\n",
      "\n",
      "loading annotations into memory...\n",
      "Done (t=3.58s)\n",
      "creating index...\n",
      "index created!\n",
      "loading annotations into memory...\n",
      "Done (t=0.77s)\n",
      "creating index...\n",
      "index created!\n"
     ]
    }
   ],
   "source": [
    "val_tfms = A.Compose([\n",
    "        A.Resize(256, 256),\n",
    "        #A.ElasticTransform(p=1, alpha=120, sigma=120 * 0.05, alpha_affine=120 * 0.03),\n",
    "        A.Normalize(),\n",
    "        ToTensorV2(transpose_mask=True)\n",
    "    ])\n",
    "\n",
    "trn_annot = os.path.join(data_path, 'train.json')\n",
    "val_annot = os.path.join(data_path, 'val.json')\n",
    "trn_cat = utils.make_cat_df(trn_annot, debug=True)\n",
    "val_cat = utils.make_cat_df(val_annot, debug=True)\n",
    "\n",
    "trn_ds = dataset.SegmentationDataset(data_dir=trn_annot, cat_df=trn_cat, mode='train', transform=val_tfms, binary_mask=True)\n",
    "val_ds = dataset.SegmentationDataset(data_dir=val_annot, cat_df=val_cat, mode='valid', transform=val_tfms, binary_mask=True)"
   ]
  },
  {
   "cell_type": "code",
   "execution_count": 57,
   "id": "f2f937d4-3a38-465e-887f-e1b3759005dc",
   "metadata": {},
   "outputs": [],
   "source": [
    "val_dl = DataLoader(dataset=val_ds,\n",
    "                        batch_size=16,\n",
    "                        shuffle=False,\n",
    "                        num_workers=3)\n",
    "\n",
    "trn_dl = DataLoader(dataset=trn_ds,\n",
    "                        batch_size=4,\n",
    "                        shuffle=True,\n",
    "                        num_workers=3)\n",
    "\n"
   ]
  },
  {
   "cell_type": "code",
   "execution_count": 58,
   "id": "615c0f3d-68ae-4001-b9b9-500883a05eff",
   "metadata": {},
   "outputs": [
    {
     "data": {
      "image/png": "[encoded data removed]",
      "text/plain": [
       "<Figure size 432x288 with 1 Axes>"
      ]
     },
     "metadata": {
      "needs_background": "light"
     },
     "output_type": "display_data"
    },
    {
     "data": {
      "image/png": "[encoded data removed]",
      "text/plain": [
       "<Figure size 432x288 with 1 Axes>"
      ]
     },
     "metadata": {
      "needs_background": "light"
     },
     "output_type": "display_data"
    },
    {
     "data": {
      "text/plain": [
       "<matplotlib.image.AxesImage at 0x7ff0ec5189b0>"
      ]
     },
     "execution_count": 58,
     "metadata": {},
     "output_type": "execute_result"
    },
    {
     "data": {
      "image/png": "[encoded data removed]",
      "text/plain": [
       "<Figure size 432x288 with 1 Axes>"
      ]
     },
     "metadata": {
      "needs_background": "light"
     },
     "output_type": "display_data"
    }
   ],
   "source": [
    "model.to(\"cpu\")\n",
    "\n",
    "for batch, sample in enumerate(val_dl):\n",
    "    images, masks = sample['image'].float(), sample['mask']\n",
    "    prds = model(images)\n",
    "    if batch == 0:\n",
    "        break\n",
    "        \n",
    "        \n",
    "idx=1\n",
    "prds = torch.sigmoid(prds)\n",
    "\n",
    "plt.imshow(prds[idx].argmax(0))        \n",
    "plt.show()        \n",
    "probs = np.array(utils.dense_crf_wrapper((images[idx].numpy().astype(np.uint8).transpose(1,2,0), prds.detach().numpy()[idx])))\n",
    "plt.imshow(probs.argmax(0))\n",
    "plt.show()\n",
    "plt.imshow(masks[idx].argmax(dim=0).numpy())"
   ]
  },
  {
   "cell_type": "code",
   "execution_count": 93,
   "id": "9d604b72-2401-40cd-8ebf-af47aee1ace5",
   "metadata": {},
   "outputs": [
    {
     "name": "stderr",
     "output_type": "stream",
     "text": [
      "Valid Epoch 1:   0%|          | 0/41 [00:00<?, ?batch/s]/opt/conda/lib/python3.6/site-packages/numpy/core/fromnumeric.py:3118: RuntimeWarning: Mean of empty slice.\n",
      "  out=out, **kwargs)\n",
      "/opt/conda/lib/python3.6/site-packages/numpy/core/_methods.py:85: RuntimeWarning: invalid value encountered in double_scalars\n",
      "  ret = ret.dtype.type(ret / rcount)\n",
      "Valid Epoch 1: 100%|██████████| 41/41 [03:06<00:00,  4.55s/batch, val_loss=nan, val_mIoU=nan]"
     ]
    },
    {
     "name": "stdout",
     "output_type": "stream",
     "text": [
      "Valid Epoch 1 ==>  Batch [41/41]  |  Loss: nan  |  mIoU: 0.48559\n"
     ]
    },
    {
     "name": "stderr",
     "output_type": "stream",
     "text": [
      "\n"
     ]
    }
   ],
   "source": [
    "device = 'cuda' if torch.cuda.is_available() else 'cpu'\n",
    "\n",
    "model = model.to(device)\n",
    "model.eval()\n",
    "val_mIoU = []\n",
    "val_losses = []\n",
    "n_class = 12\n",
    "hist = np.zeros((n_class, n_class))\n",
    "epoch=0\n",
    "prob_sum = torch.zeros(12)\n",
    "correct_sum = torch.zeros(12)\n",
    "TP_count = torch.zeros(12)\n",
    "TP_probs = torch.zeros(12)\n",
    "soft_TP_probs = torch.zeros(12)\n",
    "with torch.no_grad():\n",
    "    with tqdm(val_dl, total=len(val_dl), unit='batch') as val_bar:\n",
    "        for batch, sample in enumerate(val_bar):\n",
    "            val_bar.set_description(f\"Valid Epoch {epoch+1}\")\n",
    "\n",
    "            images, masks = sample['image'], sample['mask']\n",
    "            images, masks = images.to(device), masks.to(device)\n",
    "            preds = model(images)\n",
    "            \n",
    "            \n",
    "            prob_sum += torch.sigmoid(preds).sum(axis=3).sum(axis=2).sum(axis=0).cpu()\n",
    "            \n",
    "            correct_prob = torch.sigmoid(preds)*masks\n",
    "            correct_sum += correct_prob.sum(axis=3).sum(axis=2).sum(axis=0).cpu()\n",
    "            \n",
    "            soft_preds = torch.nn.functional.softmax(preds,dim=1).cpu()\n",
    "            preds = torch.sigmoid(preds).cpu()\n",
    "            \n",
    "            week_preds_indice = soft_preds.max(dim=1,)[0] < 0.5\n",
    "            preds = preds*weights.reshape(1,12,1,1)\n",
    "            \n",
    "            masks = masks.detach().cpu()\n",
    "            max_mask = torch.eye(12)[preds.argmax(dim=1)].transpose(3,1).transpose(2,3)         \n",
    "            answer_probs = preds*max_mask*masks \n",
    "            answer_soft_probs = soft_preds*max_mask*masks\n",
    "            \n",
    "            TP_probs += answer_probs.sum(axis=3).sum(axis=2).sum(axis=0)\n",
    "            soft_TP_probs += answer_soft_probs.sum(axis=3).sum(axis=2).sum(axis=0)\n",
    "                                    \n",
    "            preds = torch.argmax(preds,dim=1)\n",
    "            masks = masks.argmax(dim=1)\n",
    "            max_mask = torch.eye(12)[preds].transpose(3,1).transpose(2,3)\n",
    "            TP_count += np.bincount(preds[(preds==masks)],minlength=12)\n",
    "                        \n",
    "            hist = utils.add_hist(hist, masks.numpy(), preds.numpy(), n_class=n_class)\n",
    "\n",
    "            val_bar.set_postfix(val_loss=np.mean(val_losses),\n",
    "                                val_mIoU=np.mean(val_mIoU))\n",
    "\n",
    "    acc, acc_cls, val_mIoU, fwavacc = utils.label_accuracy_score(hist)\n",
    "    print(f'Valid Epoch {epoch+1} ==>  Batch [{str(batch+1).zfill(len(str(len(val_dl))))}/{len(val_dl)}]  |  Loss: {np.mean(val_losses):.5f}  |  mIoU: {val_mIoU:.5f}')"
   ]
  },
  {
   "cell_type": "code",
   "execution_count": 90,
   "id": "1ca71ee4-1345-4460-ae54-0f63b211b3e1",
   "metadata": {},
   "outputs": [
    {
     "data": {
      "image/png": "[encoded data removed]",
      "text/plain": [
       "<Figure size 432x288 with 1 Axes>"
      ]
     },
     "metadata": {
      "needs_background": "light"
     },
     "output_type": "display_data"
    }
   ],
   "source": [
    "plt.bar(np.array(range(0,12)),(TP_probs/TP_count).numpy())\n",
    "plt.xticks(np.array(range(0,12)), np.array(range(0,12)))\n",
    "plt.show()"
   ]
  },
  {
   "cell_type": "code",
   "execution_count": 53,
   "id": "b28fc6ed-055d-4004-bfdd-d72855867bf6",
   "metadata": {},
   "outputs": [
    {
     "data": {
      "image/png": "[encoded data removed]",
      "text/plain": [
       "<Figure size 432x288 with 1 Axes>"
      ]
     },
     "metadata": {
      "needs_background": "light"
     },
     "output_type": "display_data"
    }
   ],
   "source": [
    "plt.bar(np.array(range(0,12)),(soft_TP_probs/TP_count).numpy())\n",
    "plt.xticks(np.array(range(0,12)), np.array(range(0,12)))\n",
    "plt.show()"
   ]
  },
  {
   "cell_type": "code",
   "execution_count": null,
   "id": "fb19c629-01a8-4466-8318-ae1e74a25270",
   "metadata": {},
   "outputs": [],
   "source": [
    "plt.bar(np.array(range(0,12)),(TP_probs/TP_count).numpy())\n",
    "plt.xticks(np.array(range(0,12)), np.array(range(0,12)))\n",
    "plt.show()"
   ]
  },
  {
   "cell_type": "code",
   "execution_count": 9,
   "id": "cd871666-5d6b-4a32-94fe-669ca2a7f484",
   "metadata": {},
   "outputs": [],
   "source": [
    "a = torch.zeros(12)\n",
    "\n",
    "for i in range(len(trn_ds)):\n",
    "    a += trn_ds[i]['mask'].sum(axis=1).sum(axis=1)"
   ]
  },
  {
   "cell_type": "code",
   "execution_count": 10,
   "id": "a5e0e249-eb99-46c7-9005-b40fac0a99af",
   "metadata": {},
   "outputs": [
    {
     "data": {
      "image/png": "[encoded data removed]",
      "text/plain": [
       "<Figure size 432x288 with 1 Axes>"
      ]
     },
     "metadata": {
      "needs_background": "light"
     },
     "output_type": "display_data"
    }
   ],
   "source": [
    "no_back_a = a[1:]\n",
    "plt.bar(np.array(range(1,12)),(no_back_a/a.sum()).numpy())\n",
    "plt.xticks(np.array(range(1,12)), np.array(range(1,12)))\n",
    "plt.show()"
   ]
  },
  {
   "cell_type": "code",
   "execution_count": 11,
   "id": "a6bcfde8-366f-4dbd-9729-8f008f127931",
   "metadata": {},
   "outputs": [],
   "source": [
    "b = torch.zeros(12)\n",
    "for i in range(len(val_ds)):\n",
    "    b += val_ds[i]['mask'].sum(axis=1).sum(axis=1)"
   ]
  },
  {
   "cell_type": "code",
   "execution_count": 12,
   "id": "eac25ec8-6176-43ea-a4ef-0ef2a17c6de1",
   "metadata": {},
   "outputs": [
    {
     "data": {
      "image/png": "[encoded data removed]",
      "text/plain": [
       "<Figure size 432x288 with 1 Axes>"
      ]
     },
     "metadata": {
      "needs_background": "light"
     },
     "output_type": "display_data"
    }
   ],
   "source": [
    "plt.bar(np.array(range(1,12)),(b/b.sum())[1:].numpy())\n",
    "plt.xticks(np.array(range(1,12)), np.array(range(1,12)))\n",
    "plt.show()"
   ]
  },
  {
   "cell_type": "code",
   "execution_count": 13,
   "id": "232ba69a-5df1-430c-b0a9-1db699d30dbf",
   "metadata": {},
   "outputs": [
    {
     "data": {
      "image/png": "[encoded data removed]",
      "text/plain": [
       "<Figure size 432x288 with 1 Axes>"
      ]
     },
     "metadata": {
      "needs_background": "light"
     },
     "output_type": "display_data"
    }
   ],
   "source": [
    "plt.bar(np.array(range(1,12)),(correct_sum/b)[1:])\n",
    "plt.xticks(np.array(range(1,12)), np.array(range(1,12)))\n",
    "plt.show()"
   ]
  },
  {
   "cell_type": "code",
   "execution_count": 14,
   "id": "d081a252-6cb4-4717-8995-83270fadfe5f",
   "metadata": {},
   "outputs": [
    {
     "data": {
      "image/png": "[encoded data removed]",
      "text/plain": [
       "<Figure size 432x288 with 1 Axes>"
      ]
     },
     "metadata": {
      "needs_background": "light"
     },
     "output_type": "display_data"
    }
   ],
   "source": [
    "plt.bar(np.array(range(1,12)),((prob_sum/b)[1:].numpy()))\n",
    "plt.xticks(np.array(range(1,12)), np.array(range(1,12)))\n",
    "plt.show()"
   ]
  },
  {
   "cell_type": "code",
   "execution_count": 15,
   "id": "44f8c8aa-e9d2-40b0-8ac1-651a59fd0982",
   "metadata": {},
   "outputs": [
    {
     "data": {
      "image/png": "[encoded data removed]",
      "text/plain": [
       "<Figure size 432x288 with 1 Axes>"
      ]
     },
     "metadata": {
      "needs_background": "light"
     },
     "output_type": "display_data"
    }
   ],
   "source": [
    "plt.bar(np.array(range(1,12)),(prob_sum[1:].numpy()))\n",
    "plt.xticks(np.array(range(1,12)), np.array(range(1,12)))\n",
    "plt.show()"
   ]
  },
  {
   "cell_type": "code",
   "execution_count": 82,
   "id": "d5f3070f-b83a-43ab-ab82-66ca4cb7345a",
   "metadata": {},
   "outputs": [
    {
     "data": {
      "text/plain": [
       "tensor([0.9860,    nan, 0.8865, 0.9353, 0.8205, 0.8113, 0.8167, 0.8393, 0.8696,\n",
       "        0.9468, 0.5008, 0.8022], dtype=torch.float64)"
      ]
     },
     "execution_count": 82,
     "metadata": {},
     "output_type": "execute_result"
    }
   ],
   "source": [
    "TP_probs/TP_count"
   ]
  },
  {
   "cell_type": "code",
   "execution_count": 92,
   "id": "03166362-f9a0-49c7-8be2-8ef608524d05",
   "metadata": {},
   "outputs": [
    {
     "data": {
      "text/plain": [
       "tensor([0.0092, 0.8827, 0.0111, 0.0095, 0.0112, 0.0114, 0.0105, 0.0110, 0.0101,\n",
       "        0.0095, 0.0119, 0.0120])"
      ]
     },
     "execution_count": 92,
     "metadata": {},
     "output_type": "execute_result"
    }
   ],
   "source": [
    "we = 1/(correct_sum/b)\n",
    "we = we+5\n",
    "weights = we/we.sum()\n",
    "weights"
   ]
  },
  {
   "cell_type": "code",
   "execution_count": 20,
   "id": "2ee7be4f-e4e2-420b-9137-6dc3b2228ff2",
   "metadata": {},
   "outputs": [
    {
     "data": {
      "text/plain": [
       "tensor([3.1898e-04, 3.5551e-01, 9.9899e-03, 2.4553e-03, 3.1568e-02, 2.4903e-02,\n",
       "        2.9091e-02, 7.7181e-03, 1.4856e-02, 1.8810e-03, 4.8005e-01, 4.1651e-02])"
      ]
     },
     "execution_count": 20,
     "metadata": {},
     "output_type": "execute_result"
    }
   ],
   "source": [
    "train_freq = 1/a\n",
    "train_freq/train_freq.sum()"
   ]
  },
  {
   "cell_type": "code",
   "execution_count": 21,
   "id": "d440b1ac-a7a2-4afb-a6b6-581072cbf1b1",
   "metadata": {},
   "outputs": [
    {
     "data": {
      "image/png": "[encoded data removed]",
      "text/plain": [
       "<Figure size 432x288 with 1 Axes>"
      ]
     },
     "metadata": {
      "needs_background": "light"
     },
     "output_type": "display_data"
    }
   ],
   "source": [
    "plt.bar(np.array(range(1,12)),(prob_sum[1:]).numpy())\n",
    "plt.xticks(np.array(range(1,12)), np.array(range(1,12)))\n",
    "plt.show()"
   ]
  }
 ],
 "metadata": {
  "kernelspec": {
   "display_name": "Python 3",
   "language": "python",
   "name": "python3"
  },
  "language_info": {
   "codemirror_mode": {
    "name": "ipython",
    "version": 3
   },
   "file_extension": ".py",
   "mimetype": "text/x-python",
   "name": "python",
   "nbconvert_exporter": "python",
   "pygments_lexer": "ipython3",
   "version": "3.9.2"
  }
 },
 "nbformat": 4,
 "nbformat_minor": 5
}
